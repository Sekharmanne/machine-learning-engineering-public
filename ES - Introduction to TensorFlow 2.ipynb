{
 "cells": [
  {
   "cell_type": "markdown",
   "metadata": {},
   "source": [
    "# ElephantScale - Introduction to TensorFlow 2\n",
    "\n",
    "## Requirements\n",
    "\n",
    "In order to run this notebook, you'll need to have TensorFlow 2 installed on your machine. This tutorial was written with the following version of TensorFlow:"
   ]
  },
  {
   "cell_type": "code",
   "execution_count": 1,
   "metadata": {},
   "outputs": [],
   "source": [
    "# !pip install tensorflow\n",
    "# !pip install tensorflow-datasets"
   ]
  },
  {
   "cell_type": "code",
   "execution_count": 2,
   "metadata": {},
   "outputs": [
    {
     "name": "stdout",
     "output_type": "stream",
     "text": [
      "TensorFlow Version 2.1.0\n",
      "TensorFlow Datasets Version 2.1.0\n"
     ]
    }
   ],
   "source": [
    "import matplotlib.pyplot as plt\n",
    "%matplotlib inline\n",
    "import numpy as np\n",
    "import tensorflow as tf\n",
    "import tensorflow_datasets as tfds\n",
    "print(\"TensorFlow Version {}\".format(tf.__version__))\n",
    "print(\"TensorFlow Datasets Version {}\".format(tfds.__version__))"
   ]
  },
  {
   "cell_type": "markdown",
   "metadata": {},
   "source": [
    "## 1. TensorFlow Data Pipelines with TF Datasets\n",
    "\n",
    "One of the best parts about TensorFlow 2 is the [TensorFlow Datasets](https://www.tensorflow.org/datasets/api_docs/python/tfds) package. Previously, it took a lot of work to get our data into a format where TF models could make use of them. With the `tfds` package, we can easily load tons of industry-standard datasets for benchmarking, or we can easily create our own. \n",
    "\n",
    "In the section below, we'll demonstrate some of the core functionality of the `tfds` package, including some common operations you'll use to get ready to train some models!\n",
    "\n",
    "We can start by viewing all available public datasets in tfds by calling `tfds.list_builders()`.  We can load any of these datasets by passing the string value of the dataset in question into a `tfds.load()` call. "
   ]
  },
  {
   "cell_type": "code",
   "execution_count": 3,
   "metadata": {},
   "outputs": [
    {
     "data": {
      "text/plain": [
       "['abstract_reasoning',\n",
       " 'aeslc',\n",
       " 'aflw2k3d',\n",
       " 'amazon_us_reviews',\n",
       " 'arc',\n",
       " 'bair_robot_pushing_small',\n",
       " 'beans',\n",
       " 'big_patent',\n",
       " 'bigearthnet',\n",
       " 'billsum',\n",
       " 'binarized_mnist',\n",
       " 'binary_alpha_digits',\n",
       " 'c4',\n",
       " 'caltech101',\n",
       " 'caltech_birds2010',\n",
       " 'caltech_birds2011',\n",
       " 'cars196',\n",
       " 'cassava',\n",
       " 'cats_vs_dogs',\n",
       " 'celeb_a',\n",
       " 'celeb_a_hq',\n",
       " 'cfq',\n",
       " 'chexpert',\n",
       " 'cifar10',\n",
       " 'cifar100',\n",
       " 'cifar10_1',\n",
       " 'cifar10_corrupted',\n",
       " 'citrus_leaves',\n",
       " 'cityscapes',\n",
       " 'civil_comments',\n",
       " 'clevr',\n",
       " 'cmaterdb',\n",
       " 'cnn_dailymail',\n",
       " 'coco',\n",
       " 'coil100',\n",
       " 'colorectal_histology',\n",
       " 'colorectal_histology_large',\n",
       " 'cos_e',\n",
       " 'curated_breast_imaging_ddsm',\n",
       " 'cycle_gan',\n",
       " 'deep_weeds',\n",
       " 'definite_pronoun_resolution',\n",
       " 'diabetic_retinopathy_detection',\n",
       " 'div2k',\n",
       " 'dmlab',\n",
       " 'downsampled_imagenet',\n",
       " 'dsprites',\n",
       " 'dtd',\n",
       " 'duke_ultrasound',\n",
       " 'dummy_dataset_shared_generator',\n",
       " 'dummy_mnist',\n",
       " 'emnist',\n",
       " 'eraser_multi_rc',\n",
       " 'esnli',\n",
       " 'eurosat',\n",
       " 'fashion_mnist',\n",
       " 'flic',\n",
       " 'flores',\n",
       " 'food101',\n",
       " 'gap',\n",
       " 'gigaword',\n",
       " 'glue',\n",
       " 'groove',\n",
       " 'higgs',\n",
       " 'horses_or_humans',\n",
       " 'i_naturalist2017',\n",
       " 'image_label_folder',\n",
       " 'imagenet2012',\n",
       " 'imagenet2012_corrupted',\n",
       " 'imagenet_resized',\n",
       " 'imagenette',\n",
       " 'imagewang',\n",
       " 'imdb_reviews',\n",
       " 'iris',\n",
       " 'kitti',\n",
       " 'kmnist',\n",
       " 'lfw',\n",
       " 'librispeech',\n",
       " 'librispeech_lm',\n",
       " 'libritts',\n",
       " 'lm1b',\n",
       " 'lost_and_found',\n",
       " 'lsun',\n",
       " 'malaria',\n",
       " 'math_dataset',\n",
       " 'mnist',\n",
       " 'mnist_corrupted',\n",
       " 'movie_rationales',\n",
       " 'moving_mnist',\n",
       " 'multi_news',\n",
       " 'multi_nli',\n",
       " 'multi_nli_mismatch',\n",
       " 'natural_questions',\n",
       " 'newsroom',\n",
       " 'nsynth',\n",
       " 'omniglot',\n",
       " 'open_images_v4',\n",
       " 'opinosis',\n",
       " 'oxford_flowers102',\n",
       " 'oxford_iiit_pet',\n",
       " 'para_crawl',\n",
       " 'patch_camelyon',\n",
       " 'pet_finder',\n",
       " 'places365_small',\n",
       " 'plant_leaves',\n",
       " 'plant_village',\n",
       " 'plantae_k',\n",
       " 'qa4mre',\n",
       " 'quickdraw_bitmap',\n",
       " 'reddit_tifu',\n",
       " 'resisc45',\n",
       " 'rock_paper_scissors',\n",
       " 'rock_you',\n",
       " 'scan',\n",
       " 'scene_parse150',\n",
       " 'scicite',\n",
       " 'scientific_papers',\n",
       " 'shapes3d',\n",
       " 'smallnorb',\n",
       " 'snli',\n",
       " 'so2sat',\n",
       " 'speech_commands',\n",
       " 'squad',\n",
       " 'stanford_dogs',\n",
       " 'stanford_online_products',\n",
       " 'starcraft_video',\n",
       " 'sun397',\n",
       " 'super_glue',\n",
       " 'svhn_cropped',\n",
       " 'ted_hrlr_translate',\n",
       " 'ted_multi_translate',\n",
       " 'tf_flowers',\n",
       " 'the300w_lp',\n",
       " 'tiny_shakespeare',\n",
       " 'titanic',\n",
       " 'trivia_qa',\n",
       " 'uc_merced',\n",
       " 'ucf101',\n",
       " 'vgg_face2',\n",
       " 'visual_domain_decathlon',\n",
       " 'voc',\n",
       " 'wider_face',\n",
       " 'wikihow',\n",
       " 'wikipedia',\n",
       " 'wmt14_translate',\n",
       " 'wmt15_translate',\n",
       " 'wmt16_translate',\n",
       " 'wmt17_translate',\n",
       " 'wmt18_translate',\n",
       " 'wmt19_translate',\n",
       " 'wmt_t2t_translate',\n",
       " 'wmt_translate',\n",
       " 'xnli',\n",
       " 'xsum',\n",
       " 'yelp_polarity_reviews']"
      ]
     },
     "execution_count": 3,
     "metadata": {},
     "output_type": "execute_result"
    }
   ],
   "source": [
    "# List all available curated datasets in tfds\n",
    "tfds.list_builders()"
   ]
  },
  {
   "cell_type": "markdown",
   "metadata": {},
   "source": [
    "For this demonstration, we'll keep it simple and work with the [MNIST dataset](https://www.tensorflow.org/datasets/catalog/mnist). \n",
    "Before we get started, let's visualize some examples to see what our dataset images actually looks like!"
   ]
  },
  {
   "cell_type": "code",
   "execution_count": 4,
   "metadata": {},
   "outputs": [
    {
     "data": {
      "image/png": "[encoded data removed]",
      "text/plain": [
       "<Figure size 648x648 with 9 Axes>"
      ]
     },
     "metadata": {},
     "output_type": "display_data"
    }
   ],
   "source": [
    "ds_test, info = tfds.load(\"mnist\", split=\"test\", with_info=True)\n",
    "fig = tfds.show_examples(info, ds_test)"
   ]
  },
  {
   "cell_type": "markdown",
   "metadata": {},
   "source": [
    "### Loading MNIST Dataset\n",
    "\n",
    "We'll want to pass in some keyword arguments to ensure that we get the dataset back in the most useful format for our task.  We'll pass in the following keyword arguments: \n",
    "\n",
    "* `with_info=True`, so that the builder returns a `DatasetInfo` object containing any metadata we might need about the dataset in question.  \n",
    "<br>\n",
    "* `as_supervised=True`, so that the dataset returned is split into corresponding images and labels, saving us the extra preprocessing of separating the images and labels.  \n",
    "<br>\n",
    "* `split=['train', 'test']`, so that the dataset returns our data already split into training and testing sets. This will return our data as a tuple in the form of `(train, test)`, so we can easily unpack this tuple and bind each to the appropriate variable. (Note that if we only wanted 10% of the training dataset, we could easily specify that here by passing in `split='train[:10%]`!)"
   ]
  },
  {
   "cell_type": "code",
   "execution_count": 5,
   "metadata": {},
   "outputs": [],
   "source": [
    "# Load pretrained datasets using tfds\n",
    "(train, test), info = tfds.load('mnist', with_info=True, as_supervised=True, split=['train', 'test'])"
   ]
  },
  {
   "cell_type": "markdown",
   "metadata": {},
   "source": [
    "Next, we'll do some preprocessing of our data. Since we're working with images, we'll normalize the individual pixel values in each image by dividing them by 255. We'll also cast the dataset from its current data type, `uint8`, to the data type TF models expect, `float32`. \n",
    "\n",
    "Note that we pass the corresponding label along in our function, although we don't do anything to it. This just ensures that our labels stay matched up with their corresponding images during the preprocessing stage. "
   ]
  },
  {
   "cell_type": "code",
   "execution_count": 6,
   "metadata": {},
   "outputs": [],
   "source": [
    "# Create a sample function for processing dataset\n",
    "def normalize_img(image, label):\n",
    "    \"\"\"Normalizes images; uint8 -> float32\"\"\"\n",
    "    \n",
    "    return tf.cast(image,tf.float32) / 255., label"
   ]
  },
  {
   "cell_type": "markdown",
   "metadata": {},
   "source": [
    "Now that we've created a function that does our preprocessing for us, we can easily use a `.map()` call and pass in the function we created. TF will automatically transform the entire dataset. Better yet, by including the flag `num_parallel_calls=tf.data.experimental.AUTOTUNE`, TF will automatically parallelize this process as much as possible, depending on the machine it is being run on it. This provides a significant speed up when working on GPU/TPU machines! \n",
    "\n",
    "(If you want to specify this yourself in CPU-only training, a good heuristic is to set `num_parallel_calls` to the number of cores on your CPU.)\n",
    "\n",
    "The following cell contains a typical training data pipeline. "
   ]
  },
  {
   "cell_type": "code",
   "execution_count": 7,
   "metadata": {},
   "outputs": [
    {
     "data": {
      "text/plain": [
       "<DatasetV1Adapter shapes: ((None, 28, 28, 1), (None,)), types: (tf.float32, tf.int64)>"
      ]
     },
     "execution_count": 7,
     "metadata": {},
     "output_type": "execute_result"
    }
   ],
   "source": [
    "# Use function with Map call to transform entire dataset. This is a \n",
    "# standard training pipeline in TF\n",
    "\n",
    "train = train.map(normalize_img, num_parallel_calls=tf.data.experimental.AUTOTUNE)\n",
    "train = train.cache()\n",
    "train.shuffle(info.splits['train'].num_examples)\n",
    "train = train.batch(128)\n",
    "# The next line enables async batch fetching, and is considered a best practice\n",
    "train.prefetch(tf.data.experimental.AUTOTUNE)"
   ]
  },
  {
   "cell_type": "markdown",
   "metadata": {},
   "source": [
    "#### Caching, Batching, Shuffling, and Prefetching\n",
    "\n",
    "As we can see from the example code, tfds does a wonderful job of simplifying the most common operations needed when creating a data pipeline for modeling. \n",
    "\n",
    "In the next cell, we repeat the same process from our training pipeline to create our testing pipeline. Here, there are a few specific differences. \n",
    "\n",
    "In the **_training pipeline_**, we:\n",
    "\n",
    "1. Perform data transformations/preprocessing\n",
    "2. Cache our training dataset\n",
    "3. Shuffle our training data\n",
    "4. Create minibatches \n",
    "5. Enable async prefetching, so that we aren't slowed down by I/O operations\n",
    "\n",
    "Our testing pipeline is similar,with some distinct differences. Pay attention to the order of each. \n",
    "\n",
    "In the **_testing pipeline_**, we:\n",
    "\n",
    "1. Perform data transformations/preprocessing\n",
    "2. Batch our testing dataset\n",
    "3. Cache our testing dataset\n",
    "4. Enable async prefetching, so that we aren't slowed down by I/O operations\n",
    "\n",
    "Did you catch the difference? \n",
    "\n",
    "In our testing pipeline, we preprocess and batch our data before caching. This is different from our training pipeline, where we preprocess, cache, and then handle everything else. This is because of the nature of a test set--in order to have an apples-to-apples comparison of the performance of each epoch, they need to be tested on the exact same batches, in the exact same order. Thus, we batch, and then cache.  Conversely, in our training dataset, we want some randomness to switch things up. Therefore, we perform the longest running operation once (normalizing the pixel values of every image in our training dataset), and then cache. We then batch and shuffle our cached dataset each epoch, ensuring we have a random draw of data for our minibatches for each different training step. "
   ]
  },
  {
   "cell_type": "code",
   "execution_count": 8,
   "metadata": {},
   "outputs": [],
   "source": [
    "# Shuffle, batch, and cache testing data \n",
    "test = test.map(normalize_img, num_parallel_calls=tf.data.experimental.AUTOTUNE)\n",
    "test = test.batch(128)\n",
    "test = test.cache()\n",
    "test = test.prefetch(tf.data.experimental.AUTOTUNE)"
   ]
  },
  {
   "cell_type": "markdown",
   "metadata": {},
   "source": [
    "What if we want to work with our own custom dataset?\n",
    "\n",
    "We can always create a TF dataset out a Numpy array! The cell below contains a commented out line that shows how to do that using `tf.data.Dataset` package, which is closely related to the tfds package. We won't go deeply into working with our own data, but this should be enough to get you started! For more information on loading datasets from common formats like numpy, csv, and pandas dataframes, check out the corresponding [tensorflow documentation](https://www.tensorflow.org/tutorials/load_data/numpy)."
   ]
  },
  {
   "cell_type": "code",
   "execution_count": 9,
   "metadata": {},
   "outputs": [],
   "source": [
    "# Create a tf dataset using your own data\n",
    "\n",
    "# train_dataset_example = tf.data.Dataset.from_tensor_slices(train_examples, train_labels)"
   ]
  },
  {
   "cell_type": "markdown",
   "metadata": {},
   "source": [
    "# 2. Training Models with TF and Keras\n",
    "\n",
    "### 2.1 Basic Models \n",
    "\n",
    "Now that we have our dataset processed and squared away, it's time to build our first neural network! We'll start by building a basic **_Multi-Layer Perceptron_**, the workhorse of Deep Learning. \n",
    "\n",
    "In TensorFlow 2, Keras has become one of the most important modules in TensorFlow. In the cell below, we'll use it to import the `Sequential` model that we'll use to construct our neural network, as well as `Flatten` and `Dense` layers that we'll use. "
   ]
  },
  {
   "cell_type": "code",
   "execution_count": 10,
   "metadata": {},
   "outputs": [],
   "source": [
    "from tensorflow.keras.layers import Flatten, Dense\n",
    "from tensorflow.keras.models import Sequential"
   ]
  },
  {
   "cell_type": "markdown",
   "metadata": {},
   "source": [
    "#### Best Practice\n",
    "\n",
    "One of the most time consuming aspects in Deep Learning is tuning your model's hyperparameters. Small changes to things like the number of neurons in a layer or the activation function used can result in significant differences in performance. As we still haven't mastered the theory behind understanding how neural networks do what they do, there are no hard and fast rules to follow regarding which hyperparameters to use. As a result, you'll typically need to run experiments with different combinations of hyperparameters to find the best fit for your network. \n",
    "\n",
    "As a pro-tip, always assume you're going to need to experiment with different values for hyperparameters, and specify them separately, as a cell of variables for each one. This will act as a \"configuration\" cell of sorts, allowing you to quickly iterate by changing values for these variables. It's much easier to change them here, then it is in the TF model! \n",
    "\n",
    "#### Understanding Our Hyperparameters\n",
    "\n",
    "We're going to build a neural network with the following architecture:\n",
    "\n",
    "Input layer --> Flatten Layer --> Hidden Layer 1 --> Hidden Layer 2 --> Output Layer\n",
    "\n",
    "Let's break this down piece by piece:\n",
    "\n",
    "1. **_Input Layer_** - We don't actually have to touch this. TF will handle it for us. All we need to do is specify the shape of the inputs we'll be passing then network, which is typically handled by the first layer after the input layer.  \n",
    "<br> \n",
    "2. **_Flatten Layer_** - Recall that a Multi-Layer Perceptron requires it's input to be passed in as a 1D Vector. Our image is natively in the shape of a (28, 28, 1) Tensor (we can interpret this as a 28x28 pixel grayscale image. A dolor image would be 28x28x3). We can vectorize these images by just concatenating all 28 rows of pixels into a single row with 784 pixels (28 x 28 = 784).  We aren't strictly required to use a Flatten layer here, as we could always just reshape the images ourselves using numpy.  However, it's much easier to just add a Flatten layer to do the work for us! In this layer, we just need to specify the input shape, and it will transform the input images into a 1D vector that the following Dense layer can work with. Note that since this layer doesn't have any trainable parameters (because it's not going to learn anything, just reshape images from one specified shape to another), it's not considered a hidden layer.   \n",
    "<br>   \n",
    "3. **_Hidden Layer 1_** - In Multi-Layer Perceptrons, any layer with learnable parameters that isn't an input or output layer is referred to as a *hidden layer*.  This is because they aren't directly observable from the input or outputs of the network, and we can't really interpret what it is they're learning. In this neural network, our hidden layers are going to consist of the most common type of layer used in Deep Learning--a *Dense* layer. These layers are often referred to as **_Fully Connected Layers_**, because each neuron in this layer takes input from every neuron in the previous layer, and every neuron in this layer passes it's output of it's activation function as input to the neurons in the next layer. In Dense layers, we need to specify 2 required parameters: the number of neurons in this layer, and the activation function neurons in this layer should use. For the first layer, we'll use `512` neurons, and a `'sigmoid` activation function.   \n",
    "<br>  \n",
    "4. **_Hidden Layer 2_** - We expect this layer is going to learn features at a higher level of abstraction than the first hidden layer, because it is deeper in the network. Here, we'll use 256 neurons, and a `'sigmoid'` activation function.   \n",
    "<br>  \n",
    "5. **_Output Layer_** - The output layer is just another Dense layer, but with a twist. In this layer, we need it to have 1 neuron for every possible class in the dataset. In this case, that's 10 neurons. We'll also set the activation function to `'softmax'`, so that the network will output a vector of probabilities corresponding to each class. \n",
    "\n",
    "### Other Hyperparameters\n",
    "\n",
    "We'll also set these other hyperparameters:\n",
    "\n",
    "* `NUM_CLASSES = 10`, because there are 10 possible classes in our dataset.\n",
    "* `ACTIVATION = 'sigmoid'`, because we'll start by using a sigmoid activation function on our Dense layers\n",
    "* `INPUT_SHAPE = info.features['image']`, to get the shape of the images we'll be passing to our Flatten layer. Note that this code may change if you're working with a different dataset than MNIST (especially if not an image classification dataset)\n",
    "* `EPOCHS = 10`. 1 Epoch is one full round of training on the entire training dataset. \n",
    "* `LOSS = 'sparse_categorical_crossentropy'`, because we need to tell the network which loss function to use to grade itself with when comparing its predictions to the actual labels. \n",
    "* `OPTIMIZER = 'sgd'`, because we want the network to use stochastic gradient descent as the optimizer to adjust the weights of each neuron as the model learns with practice. \n"
   ]
  },
  {
   "cell_type": "code",
   "execution_count": 19,
   "metadata": {},
   "outputs": [],
   "source": [
    "# Specify Hyperparameters separately, to allow for quicker \n",
    "# experimentation and tuning\n",
    "\n",
    "LAYER_1_NEURONS = 512\n",
    "LAYER_2_NEURONS = 256\n",
    "NUM_CLASSES = 10\n",
    "ACTIVATION = 'sigmoid'\n",
    "INPUT_SHAPE = info.features['image'].shape # we could also hardcode (28,28,1), but it's safer to get the shape directly from the dataset\n",
    "EPOCHS = 20\n",
    "LOSS = 'sparse_categorical_crossentropy'\n",
    "OPTIMIZER = 'sgd'"
   ]
  },
  {
   "cell_type": "markdown",
   "metadata": {},
   "source": [
    "Now that we've set the hyperparameters, creating the model is quite simple!"
   ]
  },
  {
   "cell_type": "code",
   "execution_count": 20,
   "metadata": {},
   "outputs": [],
   "source": [
    "model = Sequential(Flatten(input_shape=INPUT_SHAPE))\n",
    "model.add(Dense(LAYER_1_NEURONS, activation=ACTIVATION))\n",
    "model.add(Dense(LAYER_2_NEURONS, activation=ACTIVATION))\n",
    "model.add(Dense(NUM_CLASSES, activation='softmax'))"
   ]
  },
  {
   "cell_type": "markdown",
   "metadata": {},
   "source": [
    "Let's take a look at the shape of the network we've created by calling `model.summary()` in the cell below. "
   ]
  },
  {
   "cell_type": "code",
   "execution_count": 21,
   "metadata": {},
   "outputs": [
    {
     "name": "stdout",
     "output_type": "stream",
     "text": [
      "Model: \"sequential_1\"\n",
      "_________________________________________________________________\n",
      "Layer (type)                 Output Shape              Param #   \n",
      "=================================================================\n",
      "flatten_1 (Flatten)          (None, 784)               0         \n",
      "_________________________________________________________________\n",
      "dense_3 (Dense)              (None, 512)               401920    \n",
      "_________________________________________________________________\n",
      "dense_4 (Dense)              (None, 256)               131328    \n",
      "_________________________________________________________________\n",
      "dense_5 (Dense)              (None, 10)                2570      \n",
      "=================================================================\n",
      "Total params: 535,818\n",
      "Trainable params: 535,818\n",
      "Non-trainable params: 0\n",
      "_________________________________________________________________\n"
     ]
    }
   ],
   "source": [
    "model.summary()"
   ]
  },
  {
   "cell_type": "markdown",
   "metadata": {},
   "source": [
    "This is a relatively small model, but it still has over 500,000 trainable parameters. Put in a more mathematical way, this network is learning to find the decision boundaries between the 10 digits in a 535,818-dimensional space!\n",
    "\n",
    "#### Compiling and Training\n",
    "\n",
    "Once we've built our model, we still need to **_compile_** the model before training it.  This is the step where TensorFlow generates that awesome computational graph under the hood for us. "
   ]
  },
  {
   "cell_type": "code",
   "execution_count": 22,
   "metadata": {},
   "outputs": [],
   "source": [
    "model.compile(loss=LOSS, optimizer=OPTIMIZER, metrics=['accuracy'])"
   ]
  },
  {
   "cell_type": "markdown",
   "metadata": {},
   "source": [
    "Now that we have a compiled model, we can train our model by calling `model.fit()` and passing in:\n",
    "\n",
    "* our `train` dataset\n",
    "* `epochs=EPOCHS`, as a keyword argument\n",
    "* `validation_data=test`, to tell our model we want it to try it's performance on the test set at the end of each epoch. "
   ]
  },
  {
   "cell_type": "code",
   "execution_count": 23,
   "metadata": {},
   "outputs": [
    {
     "name": "stdout",
     "output_type": "stream",
     "text": [
      "Epoch 1/20\n",
      "469/469 [==============================] - 2s 5ms/step - loss: 2.2748 - accuracy: 0.1907 - val_loss: 2.2315 - val_accuracy: 0.2064\n",
      "Epoch 2/20\n",
      "469/469 [==============================] - 1s 3ms/step - loss: 2.1907 - accuracy: 0.4280 - val_loss: 2.1399 - val_accuracy: 0.4943\n",
      "Epoch 3/20\n",
      "469/469 [==============================] - 1s 3ms/step - loss: 2.0840 - accuracy: 0.5754 - val_loss: 2.0100 - val_accuracy: 0.6279\n",
      "Epoch 4/20\n",
      "469/469 [==============================] - 1s 3ms/step - loss: 1.9281 - accuracy: 0.6450 - val_loss: 1.8199 - val_accuracy: 0.6858\n",
      "Epoch 5/20\n",
      "469/469 [==============================] - 1s 3ms/step - loss: 1.7109 - accuracy: 0.6860 - val_loss: 1.5740 - val_accuracy: 0.7233\n",
      "Epoch 6/20\n",
      "469/469 [==============================] - 1s 3ms/step - loss: 1.4601 - accuracy: 0.7235 - val_loss: 1.3232 - val_accuracy: 0.7569\n",
      "Epoch 7/20\n",
      "469/469 [==============================] - 1s 3ms/step - loss: 1.2303 - accuracy: 0.7546 - val_loss: 1.1159 - val_accuracy: 0.7806\n",
      "Epoch 8/20\n",
      "469/469 [==============================] - 1s 3ms/step - loss: 1.0505 - accuracy: 0.7792 - val_loss: 0.9614 - val_accuracy: 0.7968\n",
      "Epoch 9/20\n",
      "469/469 [==============================] - 1s 3ms/step - loss: 0.9179 - accuracy: 0.7974 - val_loss: 0.8480 - val_accuracy: 0.8113\n",
      "Epoch 10/20\n",
      "469/469 [==============================] - 1s 3ms/step - loss: 0.8198 - accuracy: 0.8103 - val_loss: 0.7632 - val_accuracy: 0.8228\n",
      "Epoch 11/20\n",
      "469/469 [==============================] - 1s 3ms/step - loss: 0.7454 - accuracy: 0.8214 - val_loss: 0.6981 - val_accuracy: 0.8321\n",
      "Epoch 12/20\n",
      "469/469 [==============================] - 1s 3ms/step - loss: 0.6875 - accuracy: 0.8316 - val_loss: 0.6468 - val_accuracy: 0.8409\n",
      "Epoch 13/20\n",
      "469/469 [==============================] - 1s 3ms/step - loss: 0.6414 - accuracy: 0.8393 - val_loss: 0.6054 - val_accuracy: 0.8474\n",
      "Epoch 14/20\n",
      "469/469 [==============================] - 1s 3ms/step - loss: 0.6039 - accuracy: 0.8466 - val_loss: 0.5715 - val_accuracy: 0.8548\n",
      "Epoch 15/20\n",
      "469/469 [==============================] - 1s 3ms/step - loss: 0.5729 - accuracy: 0.8524 - val_loss: 0.5431 - val_accuracy: 0.8594\n",
      "Epoch 16/20\n",
      "469/469 [==============================] - 1s 3ms/step - loss: 0.5468 - accuracy: 0.8578 - val_loss: 0.5191 - val_accuracy: 0.8641\n",
      "Epoch 17/20\n",
      "469/469 [==============================] - 2s 3ms/step - loss: 0.5245 - accuracy: 0.8618 - val_loss: 0.4985 - val_accuracy: 0.8682\n",
      "Epoch 18/20\n",
      "469/469 [==============================] - 2s 4ms/step - loss: 0.5053 - accuracy: 0.8656 - val_loss: 0.4807 - val_accuracy: 0.8728\n",
      "Epoch 19/20\n",
      "469/469 [==============================] - 1s 3ms/step - loss: 0.4886 - accuracy: 0.8688 - val_loss: 0.4650 - val_accuracy: 0.8765\n",
      "Epoch 20/20\n",
      "469/469 [==============================] - 1s 3ms/step - loss: 0.4739 - accuracy: 0.8723 - val_loss: 0.4513 - val_accuracy: 0.8787\n"
     ]
    }
   ],
   "source": [
    "training_history = model.fit(train, epochs=EPOCHS, validation_data=test)"
   ]
  },
  {
   "cell_type": "markdown",
   "metadata": {},
   "source": [
    "### Interpreting Training Results\n",
    "\n",
    "TensorFlow is great about giving metrics to follow during training operations. This is really handy for us, as we can see the model learning in real time! Note that in the printouts above, we see `loss` and `accuracy`, as well as `val_loss` and `val_accuracy`. The first two correspond to our model's performance on the training set, while the ones that start with `val_` correspond to our testing set. Performance on your testing set is what matters! With enough epochs, your model will always begin to **_overfit_** to your training set. This is because it is beginning to memorize specific features about the images in the training set, as opposed to learning generalizable features that transfer over to other handwritten digits. Model overfitting is bad, and we want to identify it and take steps to avoid it whenever possible. \n",
    "\n",
    "### Visualzing Training Results\n",
    "\n",
    "When you call `model.fit()`, the model will return a `History` object containing a bunch of great information about the model's performance during each step of the training. The cell below demonstrates how to use [matplotlib](https://matplotlib.org/3.2.1/contents.html) to graph the training and testing metrics as trendlines, which makes it much easier to interpret and check for overfitting. \n",
    "\n",
    "**_NOTE:_** The code in cell below was taken from this [Keras documentation](https://keras.io/visualization/). Follow the link for more info and best practices for visualizing model output! "
   ]
  },
  {
   "cell_type": "code",
   "execution_count": 24,
   "metadata": {
    "scrolled": true
   },
   "outputs": [
    {
     "data": {
      "image/png": "[encoded data removed]",
      "text/plain": [
       "<Figure size 432x288 with 1 Axes>"
      ]
     },
     "metadata": {
      "needs_background": "light"
     },
     "output_type": "display_data"
    },
    {
     "data": {
      "image/png": "[encoded data removed]",
      "text/plain": [
       "<Figure size 432x288 with 1 Axes>"
      ]
     },
     "metadata": {
      "needs_background": "light"
     },
     "output_type": "display_data"
    }
   ],
   "source": [
    "import matplotlib.pyplot as plt\n",
    "# don't forget this next line, or else your graphs won't show up in the notebook!\n",
    "%matplotlib inline      \n",
    "# Plot training & validation accuracy values\n",
    "plt.plot(training_history.history['accuracy'])\n",
    "plt.plot(training_history.history['val_accuracy'])\n",
    "plt.title('Model accuracy')\n",
    "plt.ylabel('Accuracy')\n",
    "plt.xlabel('Epoch')\n",
    "plt.legend(['Train', 'Test'], loc='upper left')\n",
    "plt.show()\n",
    "\n",
    "# Plot training & validation loss values\n",
    "plt.plot(training_history.history['loss'])\n",
    "plt.plot(training_history.history['val_loss'])\n",
    "plt.title('Model loss')\n",
    "plt.ylabel('Loss')\n",
    "plt.xlabel('Epoch')\n",
    "plt.legend(['Train', 'Test'], loc='upper left')\n",
    "plt.show()"
   ]
  },
  {
   "cell_type": "markdown",
   "metadata": {},
   "source": [
    "## Interpreting Model Predictions\n",
    "\n",
    "The problem we're training this network to solve is a **_Multi-Class Classification Problem_**. We know this, because there are 10 possible classes in the dataset.  The output of our network will be a vector with 10 elements. Each of these elements corresponds to a unique class in our dataset. The elements themselves will always contain a number between 0 and 1. We can interpet these numbers as the likelihood of the image being classified belonging to that class. In multi-class classification, the sum of the probabilities in our output vector will always add up to 1.0, whether we have 3 classes or 3 million. Here's an example of what an output vector might look like:\n",
    "\n",
    "<center>[0., 0., 0.01, 0.85, 0., 0.14, 0., 0., 0., 0.]</center>\n",
    "\n",
    "We can interpret it like this:\n",
    "\n",
    "| Vector Output By Network | 0. | 0. | 0.01 | 0.85 | 0. | 0.14 | 0. | 0. | 0. | 0. |\n",
    "|--------------------------|----|----|------|------|----|------|----|----|----|----|\n",
    "| Classification           | 0  | 1  | 2    | 3    | 4  | 5    | 6  | 7  | 8  | 9  |\n",
    "\n",
    "In this case, we would consider the classification for the corresponding image to be a **3**, because it has the largest value in our output vector. \n",
    "\n",
    "Let's pass in a couple images and get some predictions from our model. "
   ]
  },
  {
   "cell_type": "code",
   "execution_count": 27,
   "metadata": {},
   "outputs": [
    {
     "data": {
      "image/png": "[encoded data removed]",
      "text/plain": [
       "<Figure size 432x288 with 1 Axes>"
      ]
     },
     "metadata": {
      "needs_background": "light"
     },
     "output_type": "display_data"
    }
   ],
   "source": [
    "(sample_images, _), (_, _) = tf.keras.datasets.mnist.load_data()\n",
    "sample_image = sample_images[10]\n",
    "plt.imshow(sample_image)\n",
    "sample_image = np.divide(sample_image, 255.)\n",
    "sample_image = np.reshape(sample_image, (1, 28, 28, 1))"
   ]
  },
  {
   "cell_type": "code",
   "execution_count": 28,
   "metadata": {},
   "outputs": [
    {
     "name": "stdout",
     "output_type": "stream",
     "text": [
      "Class: 0 \t Likelihood: 0.0003433077363297343\n",
      "Class: 1 \t Likelihood: 0.0033113760873675346\n",
      "Class: 2 \t Likelihood: 0.0023646827321499586\n",
      "Class: 3 \t Likelihood: 0.9695296287536621\n",
      "Class: 4 \t Likelihood: 6.22455581833492e-06\n",
      "Class: 5 \t Likelihood: 0.01390306930989027\n",
      "Class: 6 \t Likelihood: 1.2022187547700014e-05\n",
      "Class: 7 \t Likelihood: 0.0010473495349287987\n",
      "Class: 8 \t Likelihood: 0.009171690791845322\n",
      "Class: 9 \t Likelihood: 0.00031058452441357076\n"
     ]
    }
   ],
   "source": [
    "prediction = model.predict([sample_image])\n",
    "\n",
    "for ind, prob in enumerate(prediction[0]):\n",
    "    print('Class: {} \\t Likelihood: {}'.format(ind, prob))"
   ]
  },
  {
   "cell_type": "markdown",
   "metadata": {},
   "source": [
    "Our model got it correct!\n",
    "\n",
    "## Deliberate Practice\n",
    "\n",
    "In this tutorial, you learned about the basics of creating data pipelines, training models, and evaluating performance using TensorFlow 2! Like anything worth doing, mastering this will take **_a lot of practice!_** To help you get started, we've provided some practice challenges. In the next part of this seminar series, we'll provide the solutions for these practice problems, and dive deep into how you can optimize your Deep Learning workflows using GPUs and TPUs, TensorFlow Callbacks, and TensorBoard! \n",
    "\n",
    "\n",
    "## Problem 1 - Experimenting With Hyperparameters\n",
    "\n",
    "Modify the network we built in this tutorial to get better performance by changing some of the hyperparameters. We recommend things like changing the activation functions, the number of neurons in a layer, or the optimizer. Follow the links to see a full list of optimizers and activation functions in TensorFlow. (Hint: we recommend experimenting with relu, sigmoid, and tanh to compare activation functions, and playing with adam, RMSProp, and adagrad for optimizers.)\n",
    "\n",
    "## Problem 2 - Building a better network\n",
    "\n",
    "Create a larger, more powerful network that can reach 90% validation accuracy on the MNIST dataset. Try to limit your training to 15 epochs or less. Use whatever hyperparameters and model architecture you think is best. The sky is the limit!\n",
    "\n"
   ]
  }
 ],
 "metadata": {
  "kernelspec": {
   "display_name": "Python 3.7.6 64-bit",
   "language": "python",
   "name": "python37664bitc84e859bc1d34c12ad7db74124e7834c"
  },
  "language_info": {
   "codemirror_mode": {
    "name": "ipython",
    "version": 3
   },
   "file_extension": ".py",
   "mimetype": "text/x-python",
   "name": "python",
   "nbconvert_exporter": "python",
   "pygments_lexer": "ipython3",
   "version": "3.7.6"
  }
 },
 "nbformat": 4,
 "nbformat_minor": 2
}
